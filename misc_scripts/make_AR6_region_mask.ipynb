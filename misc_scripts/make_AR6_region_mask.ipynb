{
 "cells": [
  {
   "cell_type": "code",
   "execution_count": 3,
   "metadata": {},
   "outputs": [],
   "source": [
    "import regionmask\n",
    "import geopandas\n",
    "import xarray as xr\n",
    "import numpy as np"
   ]
  },
  {
   "cell_type": "code",
   "execution_count": 7,
   "metadata": {},
   "outputs": [
    {
     "ename": "ImportError",
     "evalue": "libtiff.so.5: cannot open shared object file: No such file or directory",
     "output_type": "error",
     "traceback": [
      "\u001b[0;31m---------------------------------------------------------------------------\u001b[0m",
      "\u001b[0;31mImportError\u001b[0m                               Traceback (most recent call last)",
      "Cell \u001b[0;32mIn[7], line 3\u001b[0m\n\u001b[1;32m      1\u001b[0m \u001b[38;5;66;03m# Open the base grid which to manipulate.\u001b[39;00m\n\u001b[1;32m      2\u001b[0m landsea\u001b[38;5;241m=\u001b[39mxr\u001b[38;5;241m.\u001b[39mopen_dataset(\u001b[38;5;124m'\u001b[39m\u001b[38;5;124m/home/ucfaccb/miniconda3/envs/ncl-nco/lib/ncarg/data/cdf/landsea.nc\u001b[39m\u001b[38;5;124m'\u001b[39m)\n\u001b[0;32m----> 3\u001b[0m landsea\u001b[38;5;241m.\u001b[39mLSMASK\u001b[38;5;241m.\u001b[39mplot()\n\u001b[1;32m      4\u001b[0m landsea\n",
      "File \u001b[0;32m~/miniconda3/envs/my-cli-py/lib/python3.11/site-packages/xarray/plot/accessor.py:47\u001b[0m, in \u001b[0;36mDataArrayPlotAccessor.__call__\u001b[0;34m(self, **kwargs)\u001b[0m\n\u001b[1;32m     45\u001b[0m \u001b[38;5;129m@functools\u001b[39m\u001b[38;5;241m.\u001b[39mwraps(dataarray_plot\u001b[38;5;241m.\u001b[39mplot, assigned\u001b[38;5;241m=\u001b[39m(\u001b[38;5;124m\"\u001b[39m\u001b[38;5;124m__doc__\u001b[39m\u001b[38;5;124m\"\u001b[39m, \u001b[38;5;124m\"\u001b[39m\u001b[38;5;124m__annotations__\u001b[39m\u001b[38;5;124m\"\u001b[39m))\n\u001b[1;32m     46\u001b[0m \u001b[38;5;28;01mdef\u001b[39;00m \u001b[38;5;21m__call__\u001b[39m(\u001b[38;5;28mself\u001b[39m, \u001b[38;5;241m*\u001b[39m\u001b[38;5;241m*\u001b[39mkwargs) \u001b[38;5;241m-\u001b[39m\u001b[38;5;241m>\u001b[39m Any:\n\u001b[0;32m---> 47\u001b[0m     \u001b[38;5;28;01mreturn\u001b[39;00m dataarray_plot\u001b[38;5;241m.\u001b[39mplot(\u001b[38;5;28mself\u001b[39m\u001b[38;5;241m.\u001b[39m_da, \u001b[38;5;241m*\u001b[39m\u001b[38;5;241m*\u001b[39mkwargs)\n",
      "File \u001b[0;32m~/miniconda3/envs/my-cli-py/lib/python3.11/site-packages/xarray/plot/dataarray_plot.py:306\u001b[0m, in \u001b[0;36mplot\u001b[0;34m(darray, row, col, col_wrap, ax, hue, subplot_kws, **kwargs)\u001b[0m\n\u001b[1;32m    302\u001b[0m     plotfunc \u001b[38;5;241m=\u001b[39m hist\n\u001b[1;32m    304\u001b[0m kwargs[\u001b[38;5;124m\"\u001b[39m\u001b[38;5;124max\u001b[39m\u001b[38;5;124m\"\u001b[39m] \u001b[38;5;241m=\u001b[39m ax\n\u001b[0;32m--> 306\u001b[0m \u001b[38;5;28;01mreturn\u001b[39;00m plotfunc(darray, \u001b[38;5;241m*\u001b[39m\u001b[38;5;241m*\u001b[39mkwargs)\n",
      "File \u001b[0;32m~/miniconda3/envs/my-cli-py/lib/python3.11/site-packages/xarray/plot/dataarray_plot.py:1501\u001b[0m, in \u001b[0;36m_plot2d.<locals>.newplotfunc\u001b[0;34m(***failed resolving arguments***)\u001b[0m\n\u001b[1;32m   1497\u001b[0m \u001b[38;5;28;01mif\u001b[39;00m darray\u001b[38;5;241m.\u001b[39mndim \u001b[38;5;241m==\u001b[39m \u001b[38;5;241m0\u001b[39m \u001b[38;5;129;01mor\u001b[39;00m darray\u001b[38;5;241m.\u001b[39msize \u001b[38;5;241m==\u001b[39m \u001b[38;5;241m0\u001b[39m:\n\u001b[1;32m   1498\u001b[0m     \u001b[38;5;66;03m# TypeError to be consistent with pandas\u001b[39;00m\n\u001b[1;32m   1499\u001b[0m     \u001b[38;5;28;01mraise\u001b[39;00m \u001b[38;5;167;01mTypeError\u001b[39;00m(\u001b[38;5;124m\"\u001b[39m\u001b[38;5;124mNo numeric data to plot.\u001b[39m\u001b[38;5;124m\"\u001b[39m)\n\u001b[0;32m-> 1501\u001b[0m plt \u001b[38;5;241m=\u001b[39m import_matplotlib_pyplot()\n\u001b[1;32m   1503\u001b[0m \u001b[38;5;28;01mif\u001b[39;00m (\n\u001b[1;32m   1504\u001b[0m     plotfunc\u001b[38;5;241m.\u001b[39m\u001b[38;5;18m__name__\u001b[39m \u001b[38;5;241m==\u001b[39m \u001b[38;5;124m\"\u001b[39m\u001b[38;5;124msurface\u001b[39m\u001b[38;5;124m\"\u001b[39m\n\u001b[1;32m   1505\u001b[0m     \u001b[38;5;129;01mand\u001b[39;00m \u001b[38;5;129;01mnot\u001b[39;00m kwargs\u001b[38;5;241m.\u001b[39mget(\u001b[38;5;124m\"\u001b[39m\u001b[38;5;124m_is_facetgrid\u001b[39m\u001b[38;5;124m\"\u001b[39m, \u001b[38;5;28;01mFalse\u001b[39;00m)\n\u001b[1;32m   1506\u001b[0m     \u001b[38;5;129;01mand\u001b[39;00m ax \u001b[38;5;129;01mis\u001b[39;00m \u001b[38;5;129;01mnot\u001b[39;00m \u001b[38;5;28;01mNone\u001b[39;00m\n\u001b[1;32m   1507\u001b[0m ):\n\u001b[1;32m   1508\u001b[0m     \u001b[38;5;28;01mimport\u001b[39;00m \u001b[38;5;21;01mmpl_toolkits\u001b[39;00m\n",
      "File \u001b[0;32m~/miniconda3/envs/my-cli-py/lib/python3.11/site-packages/xarray/plot/utils.py:53\u001b[0m, in \u001b[0;36mimport_matplotlib_pyplot\u001b[0;34m()\u001b[0m\n\u001b[1;32m     51\u001b[0m \u001b[38;5;250m\u001b[39m\u001b[38;5;124;03m\"\"\"import pyplot\"\"\"\u001b[39;00m\n\u001b[1;32m     52\u001b[0m \u001b[38;5;66;03m# TODO: This function doesn't do anything (after #6109), remove it?\u001b[39;00m\n\u001b[0;32m---> 53\u001b[0m \u001b[38;5;28;01mimport\u001b[39;00m \u001b[38;5;21;01mmatplotlib\u001b[39;00m\u001b[38;5;21;01m.\u001b[39;00m\u001b[38;5;21;01mpyplot\u001b[39;00m \u001b[38;5;28;01mas\u001b[39;00m \u001b[38;5;21;01mplt\u001b[39;00m\n\u001b[1;32m     55\u001b[0m \u001b[38;5;28;01mreturn\u001b[39;00m plt\n",
      "File \u001b[0;32m~/miniconda3/envs/my-cli-py/lib/python3.11/site-packages/matplotlib/__init__.py:161\u001b[0m\n\u001b[1;32m    157\u001b[0m \u001b[38;5;28;01mfrom\u001b[39;00m \u001b[38;5;21;01mpackaging\u001b[39;00m\u001b[38;5;21;01m.\u001b[39;00m\u001b[38;5;21;01mversion\u001b[39;00m \u001b[38;5;28;01mimport\u001b[39;00m parse \u001b[38;5;28;01mas\u001b[39;00m parse_version\n\u001b[1;32m    159\u001b[0m \u001b[38;5;66;03m# cbook must import matplotlib only within function\u001b[39;00m\n\u001b[1;32m    160\u001b[0m \u001b[38;5;66;03m# definitions, so it is safe to import from it here.\u001b[39;00m\n\u001b[0;32m--> 161\u001b[0m \u001b[38;5;28;01mfrom\u001b[39;00m \u001b[38;5;21;01m.\u001b[39;00m \u001b[38;5;28;01mimport\u001b[39;00m _api, _version, cbook, _docstring, rcsetup\n\u001b[1;32m    162\u001b[0m \u001b[38;5;28;01mfrom\u001b[39;00m \u001b[38;5;21;01mmatplotlib\u001b[39;00m\u001b[38;5;21;01m.\u001b[39;00m\u001b[38;5;21;01mcbook\u001b[39;00m \u001b[38;5;28;01mimport\u001b[39;00m sanitize_sequence\n\u001b[1;32m    163\u001b[0m \u001b[38;5;28;01mfrom\u001b[39;00m \u001b[38;5;21;01mmatplotlib\u001b[39;00m\u001b[38;5;21;01m.\u001b[39;00m\u001b[38;5;21;01m_api\u001b[39;00m \u001b[38;5;28;01mimport\u001b[39;00m MatplotlibDeprecationWarning\n",
      "File \u001b[0;32m~/miniconda3/envs/my-cli-py/lib/python3.11/site-packages/matplotlib/rcsetup.py:27\u001b[0m\n\u001b[1;32m     25\u001b[0m \u001b[38;5;28;01mfrom\u001b[39;00m \u001b[38;5;21;01mmatplotlib\u001b[39;00m \u001b[38;5;28;01mimport\u001b[39;00m _api, cbook\n\u001b[1;32m     26\u001b[0m \u001b[38;5;28;01mfrom\u001b[39;00m \u001b[38;5;21;01mmatplotlib\u001b[39;00m\u001b[38;5;21;01m.\u001b[39;00m\u001b[38;5;21;01mcbook\u001b[39;00m \u001b[38;5;28;01mimport\u001b[39;00m ls_mapper\n\u001b[0;32m---> 27\u001b[0m \u001b[38;5;28;01mfrom\u001b[39;00m \u001b[38;5;21;01mmatplotlib\u001b[39;00m\u001b[38;5;21;01m.\u001b[39;00m\u001b[38;5;21;01mcolors\u001b[39;00m \u001b[38;5;28;01mimport\u001b[39;00m Colormap, is_color_like\n\u001b[1;32m     28\u001b[0m \u001b[38;5;28;01mfrom\u001b[39;00m \u001b[38;5;21;01mmatplotlib\u001b[39;00m\u001b[38;5;21;01m.\u001b[39;00m\u001b[38;5;21;01m_fontconfig_pattern\u001b[39;00m \u001b[38;5;28;01mimport\u001b[39;00m parse_fontconfig_pattern\n\u001b[1;32m     29\u001b[0m \u001b[38;5;28;01mfrom\u001b[39;00m \u001b[38;5;21;01mmatplotlib\u001b[39;00m\u001b[38;5;21;01m.\u001b[39;00m\u001b[38;5;21;01m_enums\u001b[39;00m \u001b[38;5;28;01mimport\u001b[39;00m JoinStyle, CapStyle\n",
      "File \u001b[0;32m~/miniconda3/envs/my-cli-py/lib/python3.11/site-packages/matplotlib/colors.py:52\u001b[0m\n\u001b[1;32m     49\u001b[0m \u001b[38;5;28;01mfrom\u001b[39;00m \u001b[38;5;21;01mnumbers\u001b[39;00m \u001b[38;5;28;01mimport\u001b[39;00m Real\n\u001b[1;32m     50\u001b[0m \u001b[38;5;28;01mimport\u001b[39;00m \u001b[38;5;21;01mre\u001b[39;00m\n\u001b[0;32m---> 52\u001b[0m \u001b[38;5;28;01mfrom\u001b[39;00m \u001b[38;5;21;01mPIL\u001b[39;00m \u001b[38;5;28;01mimport\u001b[39;00m Image\n\u001b[1;32m     53\u001b[0m \u001b[38;5;28;01mfrom\u001b[39;00m \u001b[38;5;21;01mPIL\u001b[39;00m\u001b[38;5;21;01m.\u001b[39;00m\u001b[38;5;21;01mPngImagePlugin\u001b[39;00m \u001b[38;5;28;01mimport\u001b[39;00m PngInfo\n\u001b[1;32m     55\u001b[0m \u001b[38;5;28;01mimport\u001b[39;00m \u001b[38;5;21;01mmatplotlib\u001b[39;00m \u001b[38;5;28;01mas\u001b[39;00m \u001b[38;5;21;01mmpl\u001b[39;00m\n",
      "File \u001b[0;32m~/miniconda3/envs/my-cli-py/lib/python3.11/site-packages/PIL/Image.py:84\u001b[0m\n\u001b[1;32m     75\u001b[0m MAX_IMAGE_PIXELS \u001b[38;5;241m=\u001b[39m \u001b[38;5;28mint\u001b[39m(\u001b[38;5;241m1024\u001b[39m \u001b[38;5;241m*\u001b[39m \u001b[38;5;241m1024\u001b[39m \u001b[38;5;241m*\u001b[39m \u001b[38;5;241m1024\u001b[39m \u001b[38;5;241m/\u001b[39m\u001b[38;5;241m/\u001b[39m \u001b[38;5;241m4\u001b[39m \u001b[38;5;241m/\u001b[39m\u001b[38;5;241m/\u001b[39m \u001b[38;5;241m3\u001b[39m)\n\u001b[1;32m     78\u001b[0m \u001b[38;5;28;01mtry\u001b[39;00m:\n\u001b[1;32m     79\u001b[0m     \u001b[38;5;66;03m# If the _imaging C module is not present, Pillow will not load.\u001b[39;00m\n\u001b[1;32m     80\u001b[0m     \u001b[38;5;66;03m# Note that other modules should not refer to _imaging directly;\u001b[39;00m\n\u001b[1;32m     81\u001b[0m     \u001b[38;5;66;03m# import Image and use the Image.core variable instead.\u001b[39;00m\n\u001b[1;32m     82\u001b[0m     \u001b[38;5;66;03m# Also note that Image.core is not a publicly documented interface,\u001b[39;00m\n\u001b[1;32m     83\u001b[0m     \u001b[38;5;66;03m# and should be considered private and subject to change.\u001b[39;00m\n\u001b[0;32m---> 84\u001b[0m     \u001b[38;5;28;01mfrom\u001b[39;00m \u001b[38;5;21;01m.\u001b[39;00m \u001b[38;5;28;01mimport\u001b[39;00m _imaging \u001b[38;5;28;01mas\u001b[39;00m core\n\u001b[1;32m     86\u001b[0m     \u001b[38;5;28;01mif\u001b[39;00m __version__ \u001b[38;5;241m!=\u001b[39m \u001b[38;5;28mgetattr\u001b[39m(core, \u001b[38;5;124m\"\u001b[39m\u001b[38;5;124mPILLOW_VERSION\u001b[39m\u001b[38;5;124m\"\u001b[39m, \u001b[38;5;28;01mNone\u001b[39;00m):\n\u001b[1;32m     87\u001b[0m         msg \u001b[38;5;241m=\u001b[39m (\n\u001b[1;32m     88\u001b[0m             \u001b[38;5;124m\"\u001b[39m\u001b[38;5;124mThe _imaging extension was built for another version of Pillow or PIL:\u001b[39m\u001b[38;5;130;01m\\n\u001b[39;00m\u001b[38;5;124m\"\u001b[39m\n\u001b[1;32m     89\u001b[0m             \u001b[38;5;124mf\u001b[39m\u001b[38;5;124m\"\u001b[39m\u001b[38;5;124mCore version: \u001b[39m\u001b[38;5;132;01m{\u001b[39;00m\u001b[38;5;28mgetattr\u001b[39m(core,\u001b[38;5;250m \u001b[39m\u001b[38;5;124m'\u001b[39m\u001b[38;5;124mPILLOW_VERSION\u001b[39m\u001b[38;5;124m'\u001b[39m,\u001b[38;5;250m \u001b[39m\u001b[38;5;28;01mNone\u001b[39;00m)\u001b[38;5;132;01m}\u001b[39;00m\u001b[38;5;130;01m\\n\u001b[39;00m\u001b[38;5;124m\"\u001b[39m\n\u001b[1;32m     90\u001b[0m             \u001b[38;5;124mf\u001b[39m\u001b[38;5;124m\"\u001b[39m\u001b[38;5;124mPillow version: \u001b[39m\u001b[38;5;132;01m{\u001b[39;00m__version__\u001b[38;5;132;01m}\u001b[39;00m\u001b[38;5;124m\"\u001b[39m\n\u001b[1;32m     91\u001b[0m         )\n",
      "\u001b[0;31mImportError\u001b[0m: libtiff.so.5: cannot open shared object file: No such file or directory"
     ]
    }
   ],
   "source": [
    "# Open the base grid which to manipulate.\n",
    "landsea=xr.open_dataset('/home/ucfaccb/miniconda3/envs/ncl-nco/lib/ncarg/data/cdf/landsea.nc')\n",
    "landsea.LSMASK"
   ]
  },
  {
   "cell_type": "code",
   "execution_count": null,
   "metadata": {},
   "outputs": [],
   "source": [
    "land_masks=regionmask.defined_regions.ar6.land.mask(landsea.lon, landsea.lat)\n",
    "print(land_masks)\n",
    "land_masks.plot()"
   ]
  },
  {
   "cell_type": "code",
   "execution_count": null,
   "metadata": {},
   "outputs": [],
   "source": [
    "ocean_masks=regionmask.defined_regions.ar6.ocean.mask(landsea.lon, landsea.lat)\n",
    "ocean_masks.plot()"
   ]
  },
  {
   "cell_type": "code",
   "execution_count": null,
   "metadata": {},
   "outputs": [],
   "source": [
    "all_masks=regionmask.defined_regions.ar6.all.mask(landsea.lon, landsea.lat)\n",
    "all_masks.plot()"
   ]
  },
  {
   "cell_type": "code",
   "execution_count": null,
   "metadata": {},
   "outputs": [],
   "source": [
    "AR6_masks=landsea.LSMASK.copy()\n",
    "AR6_masks.data=np.int8(regionmask.defined_regions.ar6.all.mask(landsea.lon, landsea.lat))\n",
    "# Correct spelling of Indian Ocean\n",
    "region_names=regionmask.defined_regions.ar6.all.names\n",
    "region_names[55]=\"Equatorial.Indian-Ocean\"\n",
    "region_names[56]=\"S.Indian-Ocean\"\n",
    "AR6_masks=AR6_masks.assign_attrs(number=regionmask.defined_regions.ar6.all.numbers,abbrevs=regionmask.defined_regions.ar6.all.abbrevs,region_names=region_names)\n",
    "AR6_masks=AR6_masks.assign_attrs(long_name=\"AR6 Regions\",NUMBER=np.int8(regionmask.defined_regions.ar6.all.numbers),description=\"A combined mask to show the regions delineated by Iturbide et la (2020; Earth Syst. Sci. Data)\")\n",
    "AR6_masks"
   ]
  },
  {
   "cell_type": "code",
   "execution_count": null,
   "metadata": {},
   "outputs": [],
   "source": [
    "# Add in some additional information to the file\n",
    "number=regionmask.defined_regions.ar6.all.numbers\n",
    "LAND=xr.DataArray(np.zeros(58,dtype=np.int8),dims=\"number\")\n",
    "LAND[0:46]=1\n",
    "LAND=LAND.assign_attrs(long_name=\"Region defined over land\")\n",
    "OCEAN=xr.DataArray(np.zeros(58,dtype=np.int8),dims=\"number\")\n",
    "OCEAN[46:]=1\n",
    "OCEAN=OCEAN.assign_attrs(long_name=\"Region defined over ocean\")\n",
    "BOTH=xr.DataArray(np.zeros(58,dtype=np.int8),dims=\"number\")\n",
    "BOTH=BOTH.assign_attrs(long_name=\"Region defined over both land and ocean\")\n",
    "MULTIPLY_DEF=xr.DataArray(np.zeros(58,dtype=np.int8),dims=\"number\")\n",
    "MULTIPLY_DEF[8]=1 # Caribbean\n",
    "MULTIPLY_DEF[19]=1 # Mediterranean\n",
    "MULTIPLY_DEF[38]=1 # S.E.Asia\n",
    "MULTIPLY_DEF=MULTIPLY_DEF.assign_attrs(long_name=\"Is the region multiply defined (e.g. over both land and ocean)\")\n",
    "MULTIPLY_DEF\n"
   ]
  },
  {
   "cell_type": "code",
   "execution_count": null,
   "metadata": {},
   "outputs": [],
   "source": [
    "AR6_masks_1x1 = xr.Dataset()\n",
    "AR6_masks_1x1[\"AR6_masks\"]=AR6_masks\n",
    "AR6_masks_1x1[\"LAND\"]=LAND\n",
    "AR6_masks_1x1[\"OCEAN\"]=OCEAN\n",
    "AR6_masks_1x1[\"BOTH\"]=BOTH\n",
    "AR6_masks_1x1[\"MULTIPLY_DEF\"]=MULTIPLY_DEF\n",
    "AR6_masks_1x1\n"
   ]
  },
  {
   "cell_type": "markdown",
   "metadata": {},
   "source": [
    "# Now add in some Monsoon Regions\n",
    "Taken from Figure AV.1 of the Annex V of the IPCC: [https://www.ipcc.ch/report/ar6/wg1/downloads/report/IPCC_AR6_WGI_AnnexV.pdf]\n",
    "\n",
    "This defines 7 regions of which five monsoon regions. SAfri and EqAmeri are not official monsoons (they are regions of seasonal precipitation instead), but I might as well compute them"
   ]
  },
  {
   "cell_type": "code",
   "execution_count": null,
   "metadata": {},
   "outputs": [],
   "source": [
    "# Define the easy ones first...\n",
    "AR6_monsoons=landsea.LSMASK.copy()\n",
    "AR6_monsoons.data=np.full((180, 360), 9, dtype=np.int8) #set up a base array\n",
    "monsoon_abbrevs=[\"NAmerM\",\"EqAmer\",\"SAmerM\",\"WAfriM\",\"SAfri\",\"SAsiaM\",\"EAsiaM\",\"AusMCM\"]\n",
    "monsoon_names=[\"N. American Monsoon\",\"Equatorial America\",\"South American Monsoon\",\"West African Monsoon\",\"southern African\",\"South and South East Asian Monsoon\",\"East Asian Monsoon\",\"Australian-Maritime Continent Monsoon\"]\n",
    "AR6_monsoons.data= np.where((landsea.lat < 0) & (regionmask.defined_regions.ar6.land.mask(landsea.lon, landsea.lat) < 16), 2, AR6_monsoons.data) # South America\n",
    "AR6_monsoons.data= np.where((landsea.lat > 0) & (regionmask.defined_regions.ar6.land.mask(landsea.lon, landsea.lat) < 11), 1, AR6_monsoons.data) # Equatorial America\n",
    "AR6_monsoons.data= np.where(regionmask.defined_regions.ar6.land.mask(landsea.lon, landsea.lat) < 6, 0, AR6_monsoons.data) # North America\n",
    "AR6_monsoons.data= np.where((landsea.lat > 0) & (regionmask.defined_regions.ar6.land.mask(landsea.lon, landsea.lat) > 19) & (regionmask.defined_regions.ar6.land.mask(landsea.lon, landsea.lat) < 24), 3, AR6_monsoons.data) # West Africa\n",
    "AR6_monsoons.data= np.where((landsea.lat < 0) & (regionmask.defined_regions.ar6.land.mask(landsea.lon, landsea.lat) > 19) & (regionmask.defined_regions.ar6.land.mask(landsea.lon, landsea.lat) < 28), 4, AR6_monsoons.data) # southern Africa\n",
    "AR6_monsoons.plot()\n",
    "print(monsoon_abbrevs)\n",
    "AR6_monsoons\n"
   ]
  },
  {
   "cell_type": "code",
   "execution_count": null,
   "metadata": {},
   "outputs": [],
   "source": [
    "#Next we need to open monsoon.geojson (from https://github.com/IPCC-WG1/Atlas/blob/main/reference-regions/monsoons.geojson) and start applying that to the split between the Asian monsoons.\n"
   ]
  },
  {
   "cell_type": "code",
   "execution_count": null,
   "metadata": {},
   "outputs": [],
   "source": [
    "# Write this out to file...\n",
    "AR6_masks_1x1.to_netcdf(\"AR6_masks_1x1.nc\")"
   ]
  }
 ],
 "metadata": {
  "kernelspec": {
   "display_name": "my-cli-py",
   "language": "python",
   "name": "python3"
  },
  "language_info": {
   "codemirror_mode": {
    "name": "ipython",
    "version": 3
   },
   "file_extension": ".py",
   "mimetype": "text/x-python",
   "name": "python",
   "nbconvert_exporter": "python",
   "pygments_lexer": "ipython3",
   "version": "3.11.6"
  },
  "orig_nbformat": 4
 },
 "nbformat": 4,
 "nbformat_minor": 2
}
